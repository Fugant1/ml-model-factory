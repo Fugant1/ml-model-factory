{
 "cells": [
  {
   "cell_type": "markdown",
   "id": "f5d75fd0",
   "metadata": {},
   "source": [
    "# General stuff (data pre and imports)"
   ]
  },
  {
   "cell_type": "markdown",
   "id": "d1396ddd",
   "metadata": {},
   "source": [
    "## Imports"
   ]
  },
  {
   "cell_type": "code",
   "execution_count": null,
   "id": "81d11fe5",
   "metadata": {},
   "outputs": [],
   "source": [
    "import pandas as pd\n",
    "import numpy as np\n",
    "import seaborn as sns\n",
    "from src.preprocess import preprocess_data"
   ]
  },
  {
   "cell_type": "markdown",
   "id": "fff0253d",
   "metadata": {},
   "source": [
    "## Data acquisition and cleaning (df var acquisition)"
   ]
  },
  {
   "cell_type": "code",
   "execution_count": null,
   "id": "2b31e9dd",
   "metadata": {},
   "outputs": [],
   "source": [
    "df = preprocess_data()"
   ]
  },
  {
   "cell_type": "markdown",
   "id": "ba196237",
   "metadata": {},
   "source": [
    "# Pre-Made analysis stuff"
   ]
  },
  {
   "cell_type": "code",
   "execution_count": null,
   "id": "3eac589e",
   "metadata": {},
   "outputs": [],
   "source": [
    "###In building section###"
   ]
  },
  {
   "cell_type": "markdown",
   "id": "232dfa2e",
   "metadata": {},
   "source": [
    "# Specif analysis (feel free to modify this)"
   ]
  },
  {
   "cell_type": "code",
   "execution_count": null,
   "id": "23092571",
   "metadata": {},
   "outputs": [],
   "source": [
    "###In building section###"
   ]
  }
 ],
 "metadata": {
  "kernelspec": {
   "display_name": "Python 3",
   "language": "python",
   "name": "python3"
  },
  "language_info": {
   "codemirror_mode": {
    "name": "ipython",
    "version": 3
   },
   "file_extension": ".py",
   "mimetype": "text/x-python",
   "name": "python",
   "nbconvert_exporter": "python",
   "pygments_lexer": "ipython3",
   "version": "3.12.4"
  }
 },
 "nbformat": 4,
 "nbformat_minor": 5
}
