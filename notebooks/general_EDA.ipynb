{
 "cells": [
  {
   "cell_type": "markdown",
   "id": "f5d75fd0",
   "metadata": {},
   "source": [
    "# General stuff (data pre and imports)"
   ]
  },
  {
   "cell_type": "markdown",
   "id": "d1396ddd",
   "metadata": {},
   "source": [
    "## Imports"
   ]
  },
  {
   "cell_type": "code",
   "execution_count": 1,
   "id": "81d11fe5",
   "metadata": {},
   "outputs": [],
   "source": [
    "import pandas as pd\n",
    "import numpy as np\n",
    "import seaborn as sns\n",
    "\n",
    "import sys\n",
    "import os\n",
    "sys.path.append(os.path.abspath(os.path.join(os.getcwd(), '..')))\n",
    "\n",
    "from src.preprocess import preprocess_data"
   ]
  },
  {
   "cell_type": "markdown",
   "id": "fff0253d",
   "metadata": {},
   "source": [
    "## Data acquisition and cleaning (df, categorical columns and numerical columns var acquisition)"
   ]
  },
  {
   "cell_type": "code",
   "execution_count": 2,
   "id": "2b31e9dd",
   "metadata": {},
   "outputs": [
    {
     "name": "stdout",
     "output_type": "stream",
     "text": [
      "Loading CSV file: c:\\Users\\night\\OneDrive\\Área de Trabalho\\PROJETOS GITHUB\\ml-model-factory\\data\\train.csv\n",
      "Data loaded successfully.\n",
      "1731 rows with missing values found in your dataset\n",
      " We'll NOT remove them because it would prejudice our analysis\n",
      "Data cleaned successfully\n",
      "Data organized successfully\n",
      "Preprocess of data done!\n"
     ]
    }
   ],
   "source": [
    "df, numerical_columns, categorical_columns = preprocess_data()"
   ]
  },
  {
   "cell_type": "markdown",
   "id": "ba196237",
   "metadata": {},
   "source": [
    "# Pre-Made analysis stuff"
   ]
  },
  {
   "cell_type": "markdown",
   "id": "7ce0d3b3",
   "metadata": {},
   "source": [
    "### Simple sutff"
   ]
  },
  {
   "cell_type": "code",
   "execution_count": 12,
   "id": "4604605f",
   "metadata": {},
   "outputs": [
    {
     "data": {
      "text/plain": [
       "1961"
      ]
     },
     "execution_count": 12,
     "metadata": {},
     "output_type": "execute_result"
    }
   ],
   "source": [
    "len(df)"
   ]
  },
  {
   "cell_type": "code",
   "execution_count": 29,
   "id": "3eac589e",
   "metadata": {},
   "outputs": [
    {
     "name": "stdout",
     "output_type": "stream",
     "text": [
      "Index(['date_id', 'LME_AH_Close', 'LME_CA_Close', 'LME_PB_Close',\n",
      "       'LME_ZS_Close', 'JPX_Gold_Mini_Futures_Open',\n",
      "       'JPX_Gold_Rolling-Spot_Futures_Open', 'JPX_Gold_Standard_Futures_Open',\n",
      "       'JPX_Platinum_Mini_Futures_Open', 'JPX_Platinum_Standard_Futures_Open',\n",
      "       ...\n",
      "       'FX_GBPCAD', 'FX_CADCHF', 'FX_NZDCAD', 'FX_NZDCHF', 'FX_ZAREUR',\n",
      "       'FX_NOKGBP', 'FX_NOKCHF', 'FX_ZARCHF', 'FX_NOKJPY', 'FX_ZARGBP'],\n",
      "      dtype='object', length=558)\n",
      "[]\n",
      "['date_id', 'LME_AH_Close', 'LME_CA_Close', 'LME_PB_Close', 'LME_ZS_Close', 'JPX_Gold_Mini_Futures_Open', 'JPX_Gold_Rolling-Spot_Futures_Open', 'JPX_Gold_Standard_Futures_Open', 'JPX_Platinum_Mini_Futures_Open', 'JPX_Platinum_Standard_Futures_Open', 'JPX_RSS3_Rubber_Futures_Open', 'JPX_Gold_Mini_Futures_High', 'JPX_Gold_Rolling-Spot_Futures_High', 'JPX_Gold_Standard_Futures_High', 'JPX_Platinum_Mini_Futures_High', 'JPX_Platinum_Standard_Futures_High', 'JPX_RSS3_Rubber_Futures_High', 'JPX_Gold_Mini_Futures_Low', 'JPX_Gold_Rolling-Spot_Futures_Low', 'JPX_Gold_Standard_Futures_Low', 'JPX_Platinum_Mini_Futures_Low', 'JPX_Platinum_Standard_Futures_Low', 'JPX_RSS3_Rubber_Futures_Low', 'JPX_Gold_Mini_Futures_Close', 'JPX_Gold_Rolling-Spot_Futures_Close', 'JPX_Gold_Standard_Futures_Close', 'JPX_Platinum_Mini_Futures_Close', 'JPX_Platinum_Standard_Futures_Close', 'JPX_RSS3_Rubber_Futures_Close', 'JPX_Gold_Mini_Futures_Volume', 'JPX_Gold_Rolling-Spot_Futures_Volume', 'JPX_Gold_Standard_Futures_Volume', 'JPX_Platinum_Mini_Futures_Volume', 'JPX_Platinum_Standard_Futures_Volume', 'JPX_RSS3_Rubber_Futures_Volume', 'JPX_Gold_Mini_Futures_settlement_price', 'JPX_Gold_Rolling-Spot_Futures_settlement_price', 'JPX_Platinum_Mini_Futures_settlement_price', 'JPX_RSS3_Rubber_Futures_settlement_price', 'JPX_Gold_Mini_Futures_open_interest', 'JPX_Gold_Rolling-Spot_Futures_open_interest', 'JPX_Gold_Standard_Futures_open_interest', 'JPX_Platinum_Mini_Futures_open_interest', 'JPX_Platinum_Standard_Futures_open_interest', 'JPX_RSS3_Rubber_Futures_open_interest', 'US_Stock_ACWI_adj_open', 'US_Stock_AEM_adj_open', 'US_Stock_AG_adj_open', 'US_Stock_AGG_adj_open', 'US_Stock_ALB_adj_open', 'US_Stock_AMP_adj_open', 'US_Stock_BCS_adj_open', 'US_Stock_BKR_adj_open', 'US_Stock_BND_adj_open', 'US_Stock_BNDX_adj_open', 'US_Stock_BP_adj_open', 'US_Stock_BSV_adj_open', 'US_Stock_CAT_adj_open', 'US_Stock_CCJ_adj_open', 'US_Stock_CLF_adj_open', 'US_Stock_COP_adj_open', 'US_Stock_CVE_adj_open', 'US_Stock_CVX_adj_open', 'US_Stock_DE_adj_open', 'US_Stock_DVN_adj_open', 'US_Stock_EEM_adj_open', 'US_Stock_EFA_adj_open', 'US_Stock_EMB_adj_open', 'US_Stock_ENB_adj_open', 'US_Stock_EOG_adj_open', 'US_Stock_EWJ_adj_open', 'US_Stock_EWT_adj_open', 'US_Stock_EWY_adj_open', 'US_Stock_EWZ_adj_open', 'US_Stock_FCX_adj_open', 'US_Stock_FNV_adj_open', 'US_Stock_FXI_adj_open', 'US_Stock_GDX_adj_open', 'US_Stock_GDXJ_adj_open', 'US_Stock_GLD_adj_open', 'US_Stock_GOLD_adj_open', 'US_Stock_HAL_adj_open', 'US_Stock_HES_adj_open', 'US_Stock_HL_adj_open', 'US_Stock_IAU_adj_open', 'US_Stock_IEF_adj_open', 'US_Stock_IEMG_adj_open', 'US_Stock_IGSB_adj_open', 'US_Stock_JNK_adj_open', 'US_Stock_KGC_adj_open', 'US_Stock_KMI_adj_open', 'US_Stock_LQD_adj_open', 'US_Stock_LYB_adj_open', 'US_Stock_MBB_adj_open', 'US_Stock_MPC_adj_open', 'US_Stock_MS_adj_open', 'US_Stock_NEM_adj_open', 'US_Stock_NUE_adj_open', 'US_Stock_NUGT_adj_open', 'US_Stock_OIH_adj_open', 'US_Stock_OKE_adj_open', 'US_Stock_OXY_adj_open', 'US_Stock_PAAS_adj_open', 'US_Stock_RIO_adj_open', 'US_Stock_RSP_adj_open', 'US_Stock_RY_adj_open', 'US_Stock_SCCO_adj_open', 'US_Stock_SHEL_adj_open', 'US_Stock_SHY_adj_open', 'US_Stock_SLB_adj_open', 'US_Stock_SLV_adj_open', 'US_Stock_SPIB_adj_open', 'US_Stock_SPTL_adj_open', 'US_Stock_SPYV_adj_open', 'US_Stock_STLD_adj_open', 'US_Stock_TD_adj_open', 'US_Stock_TECK_adj_open', 'US_Stock_TIP_adj_open', 'US_Stock_TRGP_adj_open', 'US_Stock_URA_adj_open', 'US_Stock_VALE_adj_open', 'US_Stock_VCIT_adj_open', 'US_Stock_VCSH_adj_open', 'US_Stock_VEA_adj_open', 'US_Stock_VGIT_adj_open', 'US_Stock_VGK_adj_open', 'US_Stock_VGLT_adj_open', 'US_Stock_VGSH_adj_open', 'US_Stock_VT_adj_open', 'US_Stock_VTV_adj_open', 'US_Stock_VWO_adj_open', 'US_Stock_VXUS_adj_open', 'US_Stock_VYM_adj_open', 'US_Stock_WMB_adj_open', 'US_Stock_WPM_adj_open', 'US_Stock_X_adj_open', 'US_Stock_XLB_adj_open', 'US_Stock_XLE_adj_open', 'US_Stock_XOM_adj_open', 'US_Stock_YINN_adj_open', 'US_Stock_ACWI_adj_high', 'US_Stock_AEM_adj_high', 'US_Stock_AG_adj_high', 'US_Stock_AGG_adj_high', 'US_Stock_ALB_adj_high', 'US_Stock_AMP_adj_high', 'US_Stock_BCS_adj_high', 'US_Stock_BKR_adj_high', 'US_Stock_BND_adj_high', 'US_Stock_BNDX_adj_high', 'US_Stock_BP_adj_high', 'US_Stock_BSV_adj_high', 'US_Stock_CAT_adj_high', 'US_Stock_CCJ_adj_high', 'US_Stock_CLF_adj_high', 'US_Stock_COP_adj_high', 'US_Stock_CVE_adj_high', 'US_Stock_CVX_adj_high', 'US_Stock_DE_adj_high', 'US_Stock_DVN_adj_high', 'US_Stock_EEM_adj_high', 'US_Stock_EFA_adj_high', 'US_Stock_EMB_adj_high', 'US_Stock_ENB_adj_high', 'US_Stock_EOG_adj_high', 'US_Stock_EWJ_adj_high', 'US_Stock_EWT_adj_high', 'US_Stock_EWY_adj_high', 'US_Stock_EWZ_adj_high', 'US_Stock_FCX_adj_high', 'US_Stock_FNV_adj_high', 'US_Stock_FXI_adj_high', 'US_Stock_GDX_adj_high', 'US_Stock_GDXJ_adj_high', 'US_Stock_GLD_adj_high', 'US_Stock_GOLD_adj_high', 'US_Stock_HAL_adj_high', 'US_Stock_HES_adj_high', 'US_Stock_HL_adj_high', 'US_Stock_IAU_adj_high', 'US_Stock_IEF_adj_high', 'US_Stock_IEMG_adj_high', 'US_Stock_IGSB_adj_high', 'US_Stock_JNK_adj_high', 'US_Stock_KGC_adj_high', 'US_Stock_KMI_adj_high', 'US_Stock_LQD_adj_high', 'US_Stock_LYB_adj_high', 'US_Stock_MBB_adj_high', 'US_Stock_MPC_adj_high', 'US_Stock_MS_adj_high', 'US_Stock_NEM_adj_high', 'US_Stock_NUE_adj_high', 'US_Stock_NUGT_adj_high', 'US_Stock_OIH_adj_high', 'US_Stock_OKE_adj_high', 'US_Stock_OXY_adj_high', 'US_Stock_PAAS_adj_high', 'US_Stock_RIO_adj_high', 'US_Stock_RSP_adj_high', 'US_Stock_RY_adj_high', 'US_Stock_SCCO_adj_high', 'US_Stock_SHEL_adj_high', 'US_Stock_SHY_adj_high', 'US_Stock_SLB_adj_high', 'US_Stock_SLV_adj_high', 'US_Stock_SPIB_adj_high', 'US_Stock_SPTL_adj_high', 'US_Stock_SPYV_adj_high', 'US_Stock_STLD_adj_high', 'US_Stock_TD_adj_high', 'US_Stock_TECK_adj_high', 'US_Stock_TIP_adj_high', 'US_Stock_TRGP_adj_high', 'US_Stock_URA_adj_high', 'US_Stock_VALE_adj_high', 'US_Stock_VCIT_adj_high', 'US_Stock_VCSH_adj_high', 'US_Stock_VEA_adj_high', 'US_Stock_VGIT_adj_high', 'US_Stock_VGK_adj_high', 'US_Stock_VGLT_adj_high', 'US_Stock_VGSH_adj_high', 'US_Stock_VT_adj_high', 'US_Stock_VTV_adj_high', 'US_Stock_VWO_adj_high', 'US_Stock_VXUS_adj_high', 'US_Stock_VYM_adj_high', 'US_Stock_WMB_adj_high', 'US_Stock_WPM_adj_high', 'US_Stock_X_adj_high', 'US_Stock_XLB_adj_high', 'US_Stock_XLE_adj_high', 'US_Stock_XOM_adj_high', 'US_Stock_YINN_adj_high', 'US_Stock_ACWI_adj_low', 'US_Stock_AEM_adj_low', 'US_Stock_AG_adj_low', 'US_Stock_AGG_adj_low', 'US_Stock_ALB_adj_low', 'US_Stock_AMP_adj_low', 'US_Stock_BCS_adj_low', 'US_Stock_BKR_adj_low', 'US_Stock_BND_adj_low', 'US_Stock_BNDX_adj_low', 'US_Stock_BP_adj_low', 'US_Stock_BSV_adj_low', 'US_Stock_CAT_adj_low', 'US_Stock_CCJ_adj_low', 'US_Stock_CLF_adj_low', 'US_Stock_COP_adj_low', 'US_Stock_CVE_adj_low', 'US_Stock_CVX_adj_low', 'US_Stock_DE_adj_low', 'US_Stock_DVN_adj_low', 'US_Stock_EEM_adj_low', 'US_Stock_EFA_adj_low', 'US_Stock_EMB_adj_low', 'US_Stock_ENB_adj_low', 'US_Stock_EOG_adj_low', 'US_Stock_EWJ_adj_low', 'US_Stock_EWT_adj_low', 'US_Stock_EWY_adj_low', 'US_Stock_EWZ_adj_low', 'US_Stock_FCX_adj_low', 'US_Stock_FNV_adj_low', 'US_Stock_FXI_adj_low', 'US_Stock_GDX_adj_low', 'US_Stock_GDXJ_adj_low', 'US_Stock_GLD_adj_low', 'US_Stock_GOLD_adj_low', 'US_Stock_HAL_adj_low', 'US_Stock_HES_adj_low', 'US_Stock_HL_adj_low', 'US_Stock_IAU_adj_low', 'US_Stock_IEF_adj_low', 'US_Stock_IEMG_adj_low', 'US_Stock_IGSB_adj_low', 'US_Stock_JNK_adj_low', 'US_Stock_KGC_adj_low', 'US_Stock_KMI_adj_low', 'US_Stock_LQD_adj_low', 'US_Stock_LYB_adj_low', 'US_Stock_MBB_adj_low', 'US_Stock_MPC_adj_low', 'US_Stock_MS_adj_low', 'US_Stock_NEM_adj_low', 'US_Stock_NUE_adj_low', 'US_Stock_NUGT_adj_low', 'US_Stock_OIH_adj_low', 'US_Stock_OKE_adj_low', 'US_Stock_OXY_adj_low', 'US_Stock_PAAS_adj_low', 'US_Stock_RIO_adj_low', 'US_Stock_RSP_adj_low', 'US_Stock_RY_adj_low', 'US_Stock_SCCO_adj_low', 'US_Stock_SHEL_adj_low', 'US_Stock_SHY_adj_low', 'US_Stock_SLB_adj_low', 'US_Stock_SLV_adj_low', 'US_Stock_SPIB_adj_low', 'US_Stock_SPTL_adj_low', 'US_Stock_SPYV_adj_low', 'US_Stock_STLD_adj_low', 'US_Stock_TD_adj_low', 'US_Stock_TECK_adj_low', 'US_Stock_TIP_adj_low', 'US_Stock_TRGP_adj_low', 'US_Stock_URA_adj_low', 'US_Stock_VALE_adj_low', 'US_Stock_VCIT_adj_low', 'US_Stock_VCSH_adj_low', 'US_Stock_VEA_adj_low', 'US_Stock_VGIT_adj_low', 'US_Stock_VGK_adj_low', 'US_Stock_VGLT_adj_low', 'US_Stock_VGSH_adj_low', 'US_Stock_VT_adj_low', 'US_Stock_VTV_adj_low', 'US_Stock_VWO_adj_low', 'US_Stock_VXUS_adj_low', 'US_Stock_VYM_adj_low', 'US_Stock_WMB_adj_low', 'US_Stock_WPM_adj_low', 'US_Stock_X_adj_low', 'US_Stock_XLB_adj_low', 'US_Stock_XLE_adj_low', 'US_Stock_XOM_adj_low', 'US_Stock_YINN_adj_low', 'US_Stock_ACWI_adj_close', 'US_Stock_AEM_adj_close', 'US_Stock_AG_adj_close', 'US_Stock_AGG_adj_close', 'US_Stock_ALB_adj_close', 'US_Stock_AMP_adj_close', 'US_Stock_BCS_adj_close', 'US_Stock_BKR_adj_close', 'US_Stock_BND_adj_close', 'US_Stock_BNDX_adj_close', 'US_Stock_BP_adj_close', 'US_Stock_BSV_adj_close', 'US_Stock_CAT_adj_close', 'US_Stock_CCJ_adj_close', 'US_Stock_CLF_adj_close', 'US_Stock_COP_adj_close', 'US_Stock_CVE_adj_close', 'US_Stock_CVX_adj_close', 'US_Stock_DE_adj_close', 'US_Stock_DVN_adj_close', 'US_Stock_EEM_adj_close', 'US_Stock_EFA_adj_close', 'US_Stock_EMB_adj_close', 'US_Stock_ENB_adj_close', 'US_Stock_EOG_adj_close', 'US_Stock_EWJ_adj_close', 'US_Stock_EWT_adj_close', 'US_Stock_EWY_adj_close', 'US_Stock_EWZ_adj_close', 'US_Stock_FCX_adj_close', 'US_Stock_FNV_adj_close', 'US_Stock_FXI_adj_close', 'US_Stock_GDX_adj_close', 'US_Stock_GDXJ_adj_close', 'US_Stock_GLD_adj_close', 'US_Stock_GOLD_adj_close', 'US_Stock_HAL_adj_close', 'US_Stock_HES_adj_close', 'US_Stock_HL_adj_close', 'US_Stock_IAU_adj_close', 'US_Stock_IEF_adj_close', 'US_Stock_IEMG_adj_close', 'US_Stock_IGSB_adj_close', 'US_Stock_JNK_adj_close', 'US_Stock_KGC_adj_close', 'US_Stock_KMI_adj_close', 'US_Stock_LQD_adj_close', 'US_Stock_LYB_adj_close', 'US_Stock_MBB_adj_close', 'US_Stock_MPC_adj_close', 'US_Stock_MS_adj_close', 'US_Stock_NEM_adj_close', 'US_Stock_NUE_adj_close', 'US_Stock_NUGT_adj_close', 'US_Stock_OIH_adj_close', 'US_Stock_OKE_adj_close', 'US_Stock_OXY_adj_close', 'US_Stock_PAAS_adj_close', 'US_Stock_RIO_adj_close', 'US_Stock_RSP_adj_close', 'US_Stock_RY_adj_close', 'US_Stock_SCCO_adj_close', 'US_Stock_SHEL_adj_close', 'US_Stock_SHY_adj_close', 'US_Stock_SLB_adj_close', 'US_Stock_SLV_adj_close', 'US_Stock_SPIB_adj_close', 'US_Stock_SPTL_adj_close', 'US_Stock_SPYV_adj_close', 'US_Stock_STLD_adj_close', 'US_Stock_TD_adj_close', 'US_Stock_TECK_adj_close', 'US_Stock_TIP_adj_close', 'US_Stock_TRGP_adj_close', 'US_Stock_URA_adj_close', 'US_Stock_VALE_adj_close', 'US_Stock_VCIT_adj_close', 'US_Stock_VCSH_adj_close', 'US_Stock_VEA_adj_close', 'US_Stock_VGIT_adj_close', 'US_Stock_VGK_adj_close', 'US_Stock_VGLT_adj_close', 'US_Stock_VGSH_adj_close', 'US_Stock_VT_adj_close', 'US_Stock_VTV_adj_close', 'US_Stock_VWO_adj_close', 'US_Stock_VXUS_adj_close', 'US_Stock_VYM_adj_close', 'US_Stock_WMB_adj_close', 'US_Stock_WPM_adj_close', 'US_Stock_X_adj_close', 'US_Stock_XLB_adj_close', 'US_Stock_XLE_adj_close', 'US_Stock_XOM_adj_close', 'US_Stock_YINN_adj_close', 'US_Stock_ACWI_adj_volume', 'US_Stock_AEM_adj_volume', 'US_Stock_AG_adj_volume', 'US_Stock_AGG_adj_volume', 'US_Stock_ALB_adj_volume', 'US_Stock_AMP_adj_volume', 'US_Stock_BCS_adj_volume', 'US_Stock_BKR_adj_volume', 'US_Stock_BND_adj_volume', 'US_Stock_BNDX_adj_volume', 'US_Stock_BP_adj_volume', 'US_Stock_BSV_adj_volume', 'US_Stock_CAT_adj_volume', 'US_Stock_CCJ_adj_volume', 'US_Stock_CLF_adj_volume', 'US_Stock_COP_adj_volume', 'US_Stock_CVE_adj_volume', 'US_Stock_CVX_adj_volume', 'US_Stock_DE_adj_volume', 'US_Stock_DVN_adj_volume', 'US_Stock_EEM_adj_volume', 'US_Stock_EFA_adj_volume', 'US_Stock_EMB_adj_volume', 'US_Stock_ENB_adj_volume', 'US_Stock_EOG_adj_volume', 'US_Stock_EWJ_adj_volume', 'US_Stock_EWT_adj_volume', 'US_Stock_EWY_adj_volume', 'US_Stock_EWZ_adj_volume', 'US_Stock_FCX_adj_volume', 'US_Stock_FNV_adj_volume', 'US_Stock_FXI_adj_volume', 'US_Stock_GDX_adj_volume', 'US_Stock_GDXJ_adj_volume', 'US_Stock_GLD_adj_volume', 'US_Stock_GOLD_adj_volume', 'US_Stock_HAL_adj_volume', 'US_Stock_HES_adj_volume', 'US_Stock_HL_adj_volume', 'US_Stock_IAU_adj_volume', 'US_Stock_IEF_adj_volume', 'US_Stock_IEMG_adj_volume', 'US_Stock_IGSB_adj_volume', 'US_Stock_JNK_adj_volume', 'US_Stock_KGC_adj_volume', 'US_Stock_KMI_adj_volume', 'US_Stock_LQD_adj_volume', 'US_Stock_LYB_adj_volume', 'US_Stock_MBB_adj_volume', 'US_Stock_MPC_adj_volume', 'US_Stock_MS_adj_volume', 'US_Stock_NEM_adj_volume', 'US_Stock_NUE_adj_volume', 'US_Stock_NUGT_adj_volume', 'US_Stock_OIH_adj_volume', 'US_Stock_OKE_adj_volume', 'US_Stock_OXY_adj_volume', 'US_Stock_PAAS_adj_volume', 'US_Stock_RIO_adj_volume', 'US_Stock_RSP_adj_volume', 'US_Stock_RY_adj_volume', 'US_Stock_SCCO_adj_volume', 'US_Stock_SHEL_adj_volume', 'US_Stock_SHY_adj_volume', 'US_Stock_SLB_adj_volume', 'US_Stock_SLV_adj_volume', 'US_Stock_SPIB_adj_volume', 'US_Stock_SPTL_adj_volume', 'US_Stock_SPYV_adj_volume', 'US_Stock_STLD_adj_volume', 'US_Stock_TD_adj_volume', 'US_Stock_TECK_adj_volume', 'US_Stock_TIP_adj_volume', 'US_Stock_TRGP_adj_volume', 'US_Stock_URA_adj_volume', 'US_Stock_VALE_adj_volume', 'US_Stock_VCIT_adj_volume', 'US_Stock_VCSH_adj_volume', 'US_Stock_VEA_adj_volume', 'US_Stock_VGIT_adj_volume', 'US_Stock_VGK_adj_volume', 'US_Stock_VGLT_adj_volume', 'US_Stock_VGSH_adj_volume', 'US_Stock_VT_adj_volume', 'US_Stock_VTV_adj_volume', 'US_Stock_VWO_adj_volume', 'US_Stock_VXUS_adj_volume', 'US_Stock_VYM_adj_volume', 'US_Stock_WMB_adj_volume', 'US_Stock_WPM_adj_volume', 'US_Stock_X_adj_volume', 'US_Stock_XLB_adj_volume', 'US_Stock_XLE_adj_volume', 'US_Stock_XOM_adj_volume', 'US_Stock_YINN_adj_volume', 'FX_AUDJPY', 'FX_AUDUSD', 'FX_CADJPY', 'FX_CHFJPY', 'FX_EURAUD', 'FX_EURGBP', 'FX_EURJPY', 'FX_EURUSD', 'FX_GBPAUD', 'FX_GBPJPY', 'FX_GBPUSD', 'FX_NZDJPY', 'FX_NZDUSD', 'FX_USDCHF', 'FX_USDJPY', 'FX_ZARJPY', 'FX_ZARUSD', 'FX_NOKUSD', 'FX_NOKEUR', 'FX_CADUSD', 'FX_AUDNZD', 'FX_EURCHF', 'FX_EURCAD', 'FX_AUDCAD', 'FX_GBPCHF', 'FX_EURNZD', 'FX_AUDCHF', 'FX_GBPNZD', 'FX_GBPCAD', 'FX_CADCHF', 'FX_NZDCAD', 'FX_NZDCHF', 'FX_ZAREUR', 'FX_NOKGBP', 'FX_NOKCHF', 'FX_ZARCHF', 'FX_NOKJPY', 'FX_ZARGBP']\n"
     ]
    }
   ],
   "source": [
    "print(df.columns)\n",
    "print(categorical_columns)\n",
    "print(numerical_columns)"
   ]
  },
  {
   "cell_type": "code",
   "execution_count": 28,
   "id": "3094a286",
   "metadata": {},
   "outputs": [
    {
     "data": {
      "text/plain": [
       "date_id           int64\n",
       "LME_AH_Close    float64\n",
       "LME_CA_Close    float64\n",
       "LME_PB_Close    float64\n",
       "LME_ZS_Close    float64\n",
       "                 ...   \n",
       "FX_NOKGBP       float64\n",
       "FX_NOKCHF       float64\n",
       "FX_ZARCHF       float64\n",
       "FX_NOKJPY       float64\n",
       "FX_ZARGBP       float64\n",
       "Length: 558, dtype: object"
      ]
     },
     "execution_count": 28,
     "metadata": {},
     "output_type": "execute_result"
    }
   ],
   "source": [
    "df.dtypes"
   ]
  },
  {
   "cell_type": "code",
   "execution_count": 26,
   "id": "92d2262b",
   "metadata": {},
   "outputs": [
    {
     "data": {
      "text/plain": [
       "date_id         1961\n",
       "LME_AH_Close    1961\n",
       "LME_CA_Close    1961\n",
       "LME_PB_Close    1961\n",
       "LME_ZS_Close    1961\n",
       "                ... \n",
       "FX_NOKGBP       1961\n",
       "FX_NOKCHF       1961\n",
       "FX_ZARCHF       1961\n",
       "FX_NOKJPY       1961\n",
       "FX_ZARGBP       1961\n",
       "Length: 558, dtype: int64"
      ]
     },
     "execution_count": 26,
     "metadata": {},
     "output_type": "execute_result"
    }
   ],
   "source": [
    "df.isnull().count()"
   ]
  },
  {
   "cell_type": "code",
   "execution_count": 23,
   "id": "9eb9f746",
   "metadata": {},
   "outputs": [
    {
     "data": {
      "text/html": [
       "<div>\n",
       "<style scoped>\n",
       "    .dataframe tbody tr th:only-of-type {\n",
       "        vertical-align: middle;\n",
       "    }\n",
       "\n",
       "    .dataframe tbody tr th {\n",
       "        vertical-align: top;\n",
       "    }\n",
       "\n",
       "    .dataframe thead th {\n",
       "        text-align: right;\n",
       "    }\n",
       "</style>\n",
       "<table border=\"1\" class=\"dataframe\">\n",
       "  <thead>\n",
       "    <tr style=\"text-align: right;\">\n",
       "      <th></th>\n",
       "      <th>date_id</th>\n",
       "      <th>LME_AH_Close</th>\n",
       "      <th>LME_CA_Close</th>\n",
       "      <th>LME_PB_Close</th>\n",
       "      <th>LME_ZS_Close</th>\n",
       "      <th>JPX_Gold_Mini_Futures_Open</th>\n",
       "      <th>JPX_Gold_Rolling-Spot_Futures_Open</th>\n",
       "      <th>JPX_Gold_Standard_Futures_Open</th>\n",
       "      <th>JPX_Platinum_Mini_Futures_Open</th>\n",
       "      <th>JPX_Platinum_Standard_Futures_Open</th>\n",
       "      <th>...</th>\n",
       "      <th>FX_GBPCAD</th>\n",
       "      <th>FX_CADCHF</th>\n",
       "      <th>FX_NZDCAD</th>\n",
       "      <th>FX_NZDCHF</th>\n",
       "      <th>FX_ZAREUR</th>\n",
       "      <th>FX_NOKGBP</th>\n",
       "      <th>FX_NOKCHF</th>\n",
       "      <th>FX_ZARCHF</th>\n",
       "      <th>FX_NOKJPY</th>\n",
       "      <th>FX_ZARGBP</th>\n",
       "    </tr>\n",
       "  </thead>\n",
       "  <tbody>\n",
       "    <tr>\n",
       "      <th>count</th>\n",
       "      <td>1961.000000</td>\n",
       "      <td>1910.000000</td>\n",
       "      <td>1910.000000</td>\n",
       "      <td>1910.000000</td>\n",
       "      <td>1910.000000</td>\n",
       "      <td>1845.000000</td>\n",
       "      <td>1845.000000</td>\n",
       "      <td>1845.000000</td>\n",
       "      <td>1845.000000</td>\n",
       "      <td>1845.000000</td>\n",
       "      <td>...</td>\n",
       "      <td>1961.000000</td>\n",
       "      <td>1961.000000</td>\n",
       "      <td>1961.000000</td>\n",
       "      <td>1961.000000</td>\n",
       "      <td>1961.000000</td>\n",
       "      <td>1961.000000</td>\n",
       "      <td>1961.000000</td>\n",
       "      <td>1961.000000</td>\n",
       "      <td>1961.000000</td>\n",
       "      <td>1961.000000</td>\n",
       "    </tr>\n",
       "    <tr>\n",
       "      <th>mean</th>\n",
       "      <td>980.000000</td>\n",
       "      <td>2252.202853</td>\n",
       "      <td>7928.229026</td>\n",
       "      <td>2085.848576</td>\n",
       "      <td>2795.022628</td>\n",
       "      <td>7693.877507</td>\n",
       "      <td>7758.334417</td>\n",
       "      <td>7694.050407</td>\n",
       "      <td>3792.407046</td>\n",
       "      <td>3793.646070</td>\n",
       "      <td>...</td>\n",
       "      <td>1.710787</td>\n",
       "      <td>0.703105</td>\n",
       "      <td>0.856095</td>\n",
       "      <td>0.602847</td>\n",
       "      <td>0.056007</td>\n",
       "      <td>0.082366</td>\n",
       "      <td>0.099372</td>\n",
       "      <td>0.058701</td>\n",
       "      <td>13.096718</td>\n",
       "      <td>0.048583</td>\n",
       "    </tr>\n",
       "    <tr>\n",
       "      <th>std</th>\n",
       "      <td>566.236258</td>\n",
       "      <td>398.544566</td>\n",
       "      <td>1523.186335</td>\n",
       "      <td>183.154551</td>\n",
       "      <td>445.009643</td>\n",
       "      <td>3062.235504</td>\n",
       "      <td>3127.499852</td>\n",
       "      <td>3062.510197</td>\n",
       "      <td>721.833890</td>\n",
       "      <td>723.465805</td>\n",
       "      <td>...</td>\n",
       "      <td>0.067369</td>\n",
       "      <td>0.049470</td>\n",
       "      <td>0.036205</td>\n",
       "      <td>0.059288</td>\n",
       "      <td>0.005752</td>\n",
       "      <td>0.007005</td>\n",
       "      <td>0.013947</td>\n",
       "      <td>0.009828</td>\n",
       "      <td>0.969003</td>\n",
       "      <td>0.005338</td>\n",
       "    </tr>\n",
       "    <tr>\n",
       "      <th>min</th>\n",
       "      <td>0.000000</td>\n",
       "      <td>1462.000000</td>\n",
       "      <td>4630.000000</td>\n",
       "      <td>1585.500000</td>\n",
       "      <td>1815.500000</td>\n",
       "      <td>4171.000000</td>\n",
       "      <td>4216.000000</td>\n",
       "      <td>4171.000000</td>\n",
       "      <td>2200.000000</td>\n",
       "      <td>2164.000000</td>\n",
       "      <td>...</td>\n",
       "      <td>1.472061</td>\n",
       "      <td>0.579407</td>\n",
       "      <td>0.767636</td>\n",
       "      <td>0.466372</td>\n",
       "      <td>0.045552</td>\n",
       "      <td>0.069614</td>\n",
       "      <td>0.076132</td>\n",
       "      <td>0.042087</td>\n",
       "      <td>9.618859</td>\n",
       "      <td>0.039464</td>\n",
       "    </tr>\n",
       "    <tr>\n",
       "      <th>25%</th>\n",
       "      <td>490.000000</td>\n",
       "      <td>1925.250000</td>\n",
       "      <td>6396.125000</td>\n",
       "      <td>1973.000000</td>\n",
       "      <td>2479.500000</td>\n",
       "      <td>5197.000000</td>\n",
       "      <td>5210.000000</td>\n",
       "      <td>5197.000000</td>\n",
       "      <td>3160.000000</td>\n",
       "      <td>3156.000000</td>\n",
       "      <td>...</td>\n",
       "      <td>1.684365</td>\n",
       "      <td>0.663481</td>\n",
       "      <td>0.825814</td>\n",
       "      <td>0.546662</td>\n",
       "      <td>0.050591</td>\n",
       "      <td>0.074915</td>\n",
       "      <td>0.084064</td>\n",
       "      <td>0.048954</td>\n",
       "      <td>12.546578</td>\n",
       "      <td>0.043391</td>\n",
       "    </tr>\n",
       "    <tr>\n",
       "      <th>50%</th>\n",
       "      <td>980.000000</td>\n",
       "      <td>2245.500000</td>\n",
       "      <td>8260.750000</td>\n",
       "      <td>2070.750000</td>\n",
       "      <td>2771.000000</td>\n",
       "      <td>6622.000000</td>\n",
       "      <td>6659.000000</td>\n",
       "      <td>6619.000000</td>\n",
       "      <td>3802.500000</td>\n",
       "      <td>3803.000000</td>\n",
       "      <td>...</td>\n",
       "      <td>1.713406</td>\n",
       "      <td>0.719225</td>\n",
       "      <td>0.853417</td>\n",
       "      <td>0.615227</td>\n",
       "      <td>0.056036</td>\n",
       "      <td>0.083721</td>\n",
       "      <td>0.101440</td>\n",
       "      <td>0.058030</td>\n",
       "      <td>13.266953</td>\n",
       "      <td>0.048661</td>\n",
       "    </tr>\n",
       "    <tr>\n",
       "      <th>75%</th>\n",
       "      <td>1470.000000</td>\n",
       "      <td>2512.000000</td>\n",
       "      <td>9323.375000</td>\n",
       "      <td>2188.000000</td>\n",
       "      <td>3031.000000</td>\n",
       "      <td>8947.500000</td>\n",
       "      <td>8975.000000</td>\n",
       "      <td>8946.000000</td>\n",
       "      <td>4326.000000</td>\n",
       "      <td>4329.000000</td>\n",
       "      <td>...</td>\n",
       "      <td>1.743424</td>\n",
       "      <td>0.744981</td>\n",
       "      <td>0.883287</td>\n",
       "      <td>0.649179</td>\n",
       "      <td>0.060573</td>\n",
       "      <td>0.087033</td>\n",
       "      <td>0.109417</td>\n",
       "      <td>0.066195</td>\n",
       "      <td>13.808442</td>\n",
       "      <td>0.052472</td>\n",
       "    </tr>\n",
       "    <tr>\n",
       "      <th>max</th>\n",
       "      <td>1960.000000</td>\n",
       "      <td>3849.000000</td>\n",
       "      <td>10889.000000</td>\n",
       "      <td>2681.000000</td>\n",
       "      <td>4498.500000</td>\n",
       "      <td>16270.000000</td>\n",
       "      <td>16400.000000</td>\n",
       "      <td>16277.000000</td>\n",
       "      <td>6272.500000</td>\n",
       "      <td>6280.000000</td>\n",
       "      <td>...</td>\n",
       "      <td>1.881218</td>\n",
       "      <td>0.788635</td>\n",
       "      <td>0.950091</td>\n",
       "      <td>0.710020</td>\n",
       "      <td>0.070469</td>\n",
       "      <td>0.094472</td>\n",
       "      <td>0.125403</td>\n",
       "      <td>0.081612</td>\n",
       "      <td>15.314668</td>\n",
       "      <td>0.062025</td>\n",
       "    </tr>\n",
       "  </tbody>\n",
       "</table>\n",
       "<p>8 rows × 558 columns</p>\n",
       "</div>"
      ],
      "text/plain": [
       "           date_id  LME_AH_Close  LME_CA_Close  LME_PB_Close  LME_ZS_Close  \\\n",
       "count  1961.000000   1910.000000   1910.000000   1910.000000   1910.000000   \n",
       "mean    980.000000   2252.202853   7928.229026   2085.848576   2795.022628   \n",
       "std     566.236258    398.544566   1523.186335    183.154551    445.009643   \n",
       "min       0.000000   1462.000000   4630.000000   1585.500000   1815.500000   \n",
       "25%     490.000000   1925.250000   6396.125000   1973.000000   2479.500000   \n",
       "50%     980.000000   2245.500000   8260.750000   2070.750000   2771.000000   \n",
       "75%    1470.000000   2512.000000   9323.375000   2188.000000   3031.000000   \n",
       "max    1960.000000   3849.000000  10889.000000   2681.000000   4498.500000   \n",
       "\n",
       "       JPX_Gold_Mini_Futures_Open  JPX_Gold_Rolling-Spot_Futures_Open  \\\n",
       "count                 1845.000000                         1845.000000   \n",
       "mean                  7693.877507                         7758.334417   \n",
       "std                   3062.235504                         3127.499852   \n",
       "min                   4171.000000                         4216.000000   \n",
       "25%                   5197.000000                         5210.000000   \n",
       "50%                   6622.000000                         6659.000000   \n",
       "75%                   8947.500000                         8975.000000   \n",
       "max                  16270.000000                        16400.000000   \n",
       "\n",
       "       JPX_Gold_Standard_Futures_Open  JPX_Platinum_Mini_Futures_Open  \\\n",
       "count                     1845.000000                     1845.000000   \n",
       "mean                      7694.050407                     3792.407046   \n",
       "std                       3062.510197                      721.833890   \n",
       "min                       4171.000000                     2200.000000   \n",
       "25%                       5197.000000                     3160.000000   \n",
       "50%                       6619.000000                     3802.500000   \n",
       "75%                       8946.000000                     4326.000000   \n",
       "max                      16277.000000                     6272.500000   \n",
       "\n",
       "       JPX_Platinum_Standard_Futures_Open  ...    FX_GBPCAD    FX_CADCHF  \\\n",
       "count                         1845.000000  ...  1961.000000  1961.000000   \n",
       "mean                          3793.646070  ...     1.710787     0.703105   \n",
       "std                            723.465805  ...     0.067369     0.049470   \n",
       "min                           2164.000000  ...     1.472061     0.579407   \n",
       "25%                           3156.000000  ...     1.684365     0.663481   \n",
       "50%                           3803.000000  ...     1.713406     0.719225   \n",
       "75%                           4329.000000  ...     1.743424     0.744981   \n",
       "max                           6280.000000  ...     1.881218     0.788635   \n",
       "\n",
       "         FX_NZDCAD    FX_NZDCHF    FX_ZAREUR    FX_NOKGBP    FX_NOKCHF  \\\n",
       "count  1961.000000  1961.000000  1961.000000  1961.000000  1961.000000   \n",
       "mean      0.856095     0.602847     0.056007     0.082366     0.099372   \n",
       "std       0.036205     0.059288     0.005752     0.007005     0.013947   \n",
       "min       0.767636     0.466372     0.045552     0.069614     0.076132   \n",
       "25%       0.825814     0.546662     0.050591     0.074915     0.084064   \n",
       "50%       0.853417     0.615227     0.056036     0.083721     0.101440   \n",
       "75%       0.883287     0.649179     0.060573     0.087033     0.109417   \n",
       "max       0.950091     0.710020     0.070469     0.094472     0.125403   \n",
       "\n",
       "         FX_ZARCHF    FX_NOKJPY    FX_ZARGBP  \n",
       "count  1961.000000  1961.000000  1961.000000  \n",
       "mean      0.058701    13.096718     0.048583  \n",
       "std       0.009828     0.969003     0.005338  \n",
       "min       0.042087     9.618859     0.039464  \n",
       "25%       0.048954    12.546578     0.043391  \n",
       "50%       0.058030    13.266953     0.048661  \n",
       "75%       0.066195    13.808442     0.052472  \n",
       "max       0.081612    15.314668     0.062025  \n",
       "\n",
       "[8 rows x 558 columns]"
      ]
     },
     "execution_count": 23,
     "metadata": {},
     "output_type": "execute_result"
    }
   ],
   "source": [
    "df.describe()"
   ]
  },
  {
   "cell_type": "markdown",
   "id": "94bc3f6a",
   "metadata": {},
   "source": [
    "### Complex stuff (plots)"
   ]
  },
  {
   "cell_type": "code",
   "execution_count": null,
   "id": "b96e141b",
   "metadata": {},
   "outputs": [],
   "source": []
  },
  {
   "cell_type": "markdown",
   "id": "232dfa2e",
   "metadata": {},
   "source": [
    "# Specif analysis (feel free to modify this)"
   ]
  },
  {
   "cell_type": "code",
   "execution_count": null,
   "id": "23092571",
   "metadata": {},
   "outputs": [],
   "source": []
  }
 ],
 "metadata": {
  "kernelspec": {
   "display_name": "Python 3",
   "language": "python",
   "name": "python3"
  },
  "language_info": {
   "codemirror_mode": {
    "name": "ipython",
    "version": 3
   },
   "file_extension": ".py",
   "mimetype": "text/x-python",
   "name": "python",
   "nbconvert_exporter": "python",
   "pygments_lexer": "ipython3",
   "version": "3.12.4"
  }
 },
 "nbformat": 4,
 "nbformat_minor": 5
}
